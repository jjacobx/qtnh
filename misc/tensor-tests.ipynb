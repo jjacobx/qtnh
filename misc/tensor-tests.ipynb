{
 "cells": [
  {
   "cell_type": "code",
   "execution_count": 39,
   "metadata": {},
   "outputs": [],
   "source": [
    "import numpy as np\n",
    "\n",
    "from collections import namedtuple"
   ]
  },
  {
   "cell_type": "code",
   "execution_count": 5,
   "metadata": {},
   "outputs": [
    {
     "data": {
      "text/plain": [
       "array([[[[1.+0.j, 0.+0.j],\n",
       "         [0.+0.j, 0.+0.j]],\n",
       "\n",
       "        [[0.+0.j, 1.+0.j],\n",
       "         [0.+0.j, 0.+0.j]]],\n",
       "\n",
       "\n",
       "       [[[0.+0.j, 0.+0.j],\n",
       "         [1.+0.j, 0.+0.j]],\n",
       "\n",
       "        [[0.+0.j, 0.+0.j],\n",
       "         [0.+0.j, 0.+1.j]]]])"
      ]
     },
     "execution_count": 5,
     "metadata": {},
     "output_type": "execute_result"
    }
   ],
   "source": [
    "psi = np.array([[1, 0], [0, 0]])\n",
    "h = np.array([[1, 1], [1, -1]]) / np.sqrt(2)\n",
    "cp = np.diag([1, 1, 1, 1j]).reshape((2, 2, 2, 2))"
   ]
  },
  {
   "cell_type": "code",
   "execution_count": 17,
   "metadata": {},
   "outputs": [
    {
     "name": "stdout",
     "output_type": "stream",
     "text": [
      "[[0.70710678 0.70710678]\n",
      " [0.         0.        ]]\n",
      "[[0.70710678+0.j 0.        +0.j]\n",
      " [0.70710678+0.j 0.        +0.j]]\n",
      "[[0.5+0.j 0.5+0.j]\n",
      " [0.5+0.j 0.5+0.j]]\n"
     ]
    }
   ],
   "source": [
    "# np.einsum(\"ij,ip,pjqr,rs->qs\", psi, h, cp, h)\n",
    "psi1 = np.einsum(\"ij,ip->jp\", psi, h)\n",
    "psi2 = np.einsum(\"pj,jpqr->qr\", psi1, cp)\n",
    "psi3 = np.einsum(\"qr,rs->qs\", psi2, h)\n",
    "\n",
    "print(psi1)\n",
    "print(psi2)\n",
    "print(psi3)"
   ]
  },
  {
   "cell_type": "code",
   "execution_count": 34,
   "metadata": {},
   "outputs": [
    {
     "data": {
      "text/plain": [
       "array([[ 7, 15],\n",
       "       [10, 22]])"
      ]
     },
     "execution_count": 34,
     "metadata": {},
     "output_type": "execute_result"
    }
   ],
   "source": [
    "t1 = np.array([[1, 2], [3, 4]])\n",
    "t2 = np.array([[1, 2], [3, 4]])\n",
    "\n",
    "np.einsum(\"ij,ki->jk\", t1, t2)"
   ]
  },
  {
   "cell_type": "code",
   "execution_count": 67,
   "metadata": {},
   "outputs": [],
   "source": [
    "def random_tensor(dims):\n",
    "  real = (np.random.randint(20, size = dims) - 10) / 10 \n",
    "  imag = (np.random.randint(20, size = dims) - 10) / 10\n",
    "  \n",
    "  return real + imag * 1j\n",
    "\n",
    "t1 = random_tensor((4, 5))\n",
    "t2 = random_tensor((3, 5, 7))"
   ]
  },
  {
   "cell_type": "code",
   "execution_count": 33,
   "metadata": {},
   "outputs": [
    {
     "data": {
      "text/plain": [
       "(4, 3, 7)"
      ]
     },
     "execution_count": 33,
     "metadata": {},
     "output_type": "execute_result"
    }
   ],
   "source": [
    "np.einsum(\"ij,kjl->ikl\", t1, t2).shape"
   ]
  },
  {
   "cell_type": "code",
   "execution_count": 70,
   "metadata": {},
   "outputs": [
    {
     "name": "stdout",
     "output_type": "stream",
     "text": [
      " 0.43-0.35i\n",
      " 1.67+0.70i\n",
      "-1.08+0.24i\n",
      "-0.66+0.39i\n",
      " 0.20-0.65i\n",
      " 0.39+0.67i\n",
      "-0.00-2.38i\n",
      "-0.46-1.12i\n",
      " 1.04+0.66i\n",
      "-2.00-1.13i\n",
      " 0.87+0.73i\n",
      " 0.06+1.40i\n",
      "-0.16-0.36i\n",
      "-1.25+1.38i\n",
      " 1.41+0.70i\n",
      "-1.99-0.31i\n",
      "-1.03-0.51i\n",
      " 1.01-0.47i\n",
      "-0.83+0.23i\n",
      " 0.10-0.98i\n",
      "-1.05-1.29i\n",
      " 1.57+0.67i\n",
      "-0.17+0.38i\n",
      " 0.50-0.46i\n",
      "-1.39+2.29i\n",
      " 0.57+0.46i\n",
      "-1.32+1.73i\n",
      " 0.25+0.66i\n",
      " 0.47+0.08i\n",
      "-0.58-1.04i\n",
      " 1.69+1.71i\n",
      " 0.32-1.35i\n",
      " 2.98+0.89i\n",
      " 0.33-0.31i\n",
      "-1.18-0.49i\n",
      " 0.40-1.95i\n",
      "-0.93-2.75i\n",
      " 0.97-0.57i\n",
      "-1.09-1.56i\n",
      " 0.79-0.09i\n",
      " 1.46-0.05i\n",
      "-1.32+2.46i\n",
      "-0.09-1.06i\n",
      " 1.47+0.55i\n",
      "-0.76+0.59i\n",
      " 1.54-0.07i\n",
      " 0.02+0.24i\n",
      " 1.47-0.50i\n",
      " 0.37-0.90i\n",
      " 0.62-0.93i\n",
      " 0.64+0.90i\n",
      "-1.53-1.76i\n",
      "-0.28+1.05i\n",
      "-0.54-0.61i\n",
      " 0.13-0.79i\n",
      " 0.67+1.21i\n",
      "-0.06+0.82i\n",
      "-0.92+1.50i\n",
      "-1.48+0.52i\n",
      " 0.07+0.70i\n",
      "-1.37+0.84i\n",
      "-1.19-1.37i\n",
      " 1.18-1.08i\n",
      "-1.03+0.80i\n",
      "-1.77+0.87i\n",
      " 0.05-0.98i\n",
      " 0.89+0.11i\n",
      "-0.50+1.39i\n",
      " 1.59-2.10i\n",
      " 0.73+2.48i\n",
      " 1.05+1.36i\n",
      " 0.63+1.07i\n",
      " 0.23-0.65i\n",
      "-1.79+1.09i\n",
      "-1.43+0.14i\n",
      " 2.29+0.60i\n",
      " 1.89+0.83i\n",
      "-0.15+1.76i\n",
      " 2.58+2.03i\n",
      "-0.89+0.06i\n",
      "-0.03+0.50i\n",
      "-0.79-0.12i\n",
      "-0.45-1.14i\n",
      " 0.80+0.54i\n",
      "[[[ 4.30000000e-01-0.35j  1.67000000e+00+0.7j  -1.08000000e+00+0.24j\n",
      "   -6.60000000e-01+0.39j  2.00000000e-01-0.65j  3.90000000e-01+0.67j\n",
      "   -1.11022302e-16-2.38j]\n",
      "  [-4.60000000e-01-1.12j  1.04000000e+00+0.66j -2.00000000e+00-1.13j\n",
      "    8.70000000e-01+0.73j  6.00000000e-02+1.4j  -1.60000000e-01-0.36j\n",
      "   -1.25000000e+00+1.38j]\n",
      "  [ 1.41000000e+00+0.7j  -1.99000000e+00-0.31j -1.03000000e+00-0.51j\n",
      "    1.01000000e+00-0.47j -8.30000000e-01+0.23j  1.00000000e-01-0.98j\n",
      "   -1.05000000e+00-1.29j]]\n",
      "\n",
      " [[ 1.57000000e+00+0.67j -1.70000000e-01+0.38j  5.00000000e-01-0.46j\n",
      "   -1.39000000e+00+2.29j  5.70000000e-01+0.46j -1.32000000e+00+1.73j\n",
      "    2.50000000e-01+0.66j]\n",
      "  [ 4.70000000e-01+0.08j -5.80000000e-01-1.04j  1.69000000e+00+1.71j\n",
      "    3.20000000e-01-1.35j  2.98000000e+00+0.89j  3.30000000e-01-0.31j\n",
      "   -1.18000000e+00-0.49j]\n",
      "  [ 4.00000000e-01-1.95j -9.30000000e-01-2.75j  9.70000000e-01-0.57j\n",
      "   -1.09000000e+00-1.56j  7.90000000e-01-0.09j  1.46000000e+00-0.05j\n",
      "   -1.32000000e+00+2.46j]]\n",
      "\n",
      " [[-9.00000000e-02-1.06j  1.47000000e+00+0.55j -7.60000000e-01+0.59j\n",
      "    1.54000000e+00-0.07j  2.00000000e-02+0.24j  1.47000000e+00-0.5j\n",
      "    3.70000000e-01-0.9j ]\n",
      "  [ 6.20000000e-01-0.93j  6.40000000e-01+0.9j  -1.53000000e+00-1.76j\n",
      "   -2.80000000e-01+1.05j -5.40000000e-01-0.61j  1.30000000e-01-0.79j\n",
      "    6.70000000e-01+1.21j]\n",
      "  [-6.00000000e-02+0.82j -9.20000000e-01+1.5j  -1.48000000e+00+0.52j\n",
      "    7.00000000e-02+0.7j  -1.37000000e+00+0.84j -1.19000000e+00-1.37j\n",
      "    1.18000000e+00-1.08j]]\n",
      "\n",
      " [[-1.03000000e+00+0.8j  -1.77000000e+00+0.87j  5.00000000e-02-0.98j\n",
      "    8.90000000e-01+0.11j -5.00000000e-01+1.39j  1.59000000e+00-2.1j\n",
      "    7.30000000e-01+2.48j]\n",
      "  [ 1.05000000e+00+1.36j  6.30000000e-01+1.07j  2.30000000e-01-0.65j\n",
      "   -1.79000000e+00+1.09j -1.43000000e+00+0.14j  2.29000000e+00+0.6j\n",
      "    1.89000000e+00+0.83j]\n",
      "  [-1.50000000e-01+1.76j  2.58000000e+00+2.03j -8.90000000e-01+0.06j\n",
      "   -3.00000000e-02+0.5j  -7.90000000e-01-0.12j -4.50000000e-01-1.14j\n",
      "    8.00000000e-01+0.54j]]]\n"
     ]
    },
    {
     "data": {
      "text/plain": [
       "<function tuple.count(value, /)>"
      ]
     },
     "execution_count": 70,
     "metadata": {},
     "output_type": "execute_result"
    }
   ],
   "source": [
    "Contraction = namedtuple(\"Contraction\", \"t1 t2 t3 ws\")\n",
    "c1 = Contraction(t1, t2, np.einsum(\"ij,kjl->ikl\", t1, t2), [(0, 1)])\n",
    "\n",
    "for el in c1.t3.flatten():\n",
    "  plus = \"+\" if el.imag >= 0 else \"\"\n",
    "  print(f\"{el.real: .2f}{plus}{el.imag:.2f}i\")\n",
    "\n",
    "print(c1.t3)"
   ]
  }
 ],
 "metadata": {
  "kernelspec": {
   "display_name": "Python 3",
   "language": "python",
   "name": "python3"
  },
  "language_info": {
   "codemirror_mode": {
    "name": "ipython",
    "version": 3
   },
   "file_extension": ".py",
   "mimetype": "text/x-python",
   "name": "python",
   "nbconvert_exporter": "python",
   "pygments_lexer": "ipython3",
   "version": "3.11.8"
  }
 },
 "nbformat": 4,
 "nbformat_minor": 2
}
