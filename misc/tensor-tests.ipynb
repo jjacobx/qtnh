{
 "cells": [
  {
   "cell_type": "code",
   "execution_count": 48,
   "metadata": {},
   "outputs": [],
   "source": [
    "import numpy as np\n",
    "import random\n",
    "import string\n",
    "\n",
    "from collections import namedtuple"
   ]
  },
  {
   "cell_type": "code",
   "execution_count": 4,
   "metadata": {},
   "outputs": [],
   "source": [
    "psi = np.array([[1, 0], [0, 0]])\n",
    "h = np.array([[1, 1], [1, -1]]) / np.sqrt(2)\n",
    "cp = np.diag([1, 1, 1, 1j]).reshape((2, 2, 2, 2))"
   ]
  },
  {
   "cell_type": "code",
   "execution_count": 5,
   "metadata": {},
   "outputs": [
    {
     "name": "stdout",
     "output_type": "stream",
     "text": [
      "[[0.70710678 0.70710678]\n",
      " [0.         0.        ]]\n",
      "[[0.70710678+0.j 0.        +0.j]\n",
      " [0.70710678+0.j 0.        +0.j]]\n",
      "[[0.5+0.j 0.5+0.j]\n",
      " [0.5+0.j 0.5+0.j]]\n"
     ]
    }
   ],
   "source": [
    "# np.einsum(\"ij,ip,pjqr,rs->qs\", psi, h, cp, h)\n",
    "psi1 = np.einsum(\"ij,ip->jp\", psi, h)\n",
    "psi2 = np.einsum(\"pj,jpqr->qr\", psi1, cp)\n",
    "psi3 = np.einsum(\"qr,rs->qs\", psi2, h)\n",
    "\n",
    "print(psi1)\n",
    "print(psi2)\n",
    "print(psi3)"
   ]
  },
  {
   "cell_type": "code",
   "execution_count": 6,
   "metadata": {},
   "outputs": [
    {
     "data": {
      "text/plain": [
       "array([[ 7, 15],\n",
       "       [10, 22]])"
      ]
     },
     "execution_count": 6,
     "metadata": {},
     "output_type": "execute_result"
    }
   ],
   "source": [
    "t1 = np.array([[1, 2], [3, 4]])\n",
    "t2 = np.array([[1, 2], [3, 4]])\n",
    "\n",
    "np.einsum(\"ij,ki->jk\", t1, t2)"
   ]
  },
  {
   "cell_type": "code",
   "execution_count": 7,
   "metadata": {},
   "outputs": [],
   "source": [
    "def random_tensor(dims, dp = 1):\n",
    "  real = (np.random.randint(2 * 10**dp, size = dims) - 10**dp) / 10**dp\n",
    "  imag = (np.random.randint(2 * 10**dp, size = dims) - 10**dp) / 10**dp\n",
    "\n",
    "  return real + imag * 1j\n",
    "\n",
    "t1 = random_tensor((4, 5))\n",
    "t2 = random_tensor((3, 5, 7))"
   ]
  },
  {
   "cell_type": "code",
   "execution_count": 9,
   "metadata": {},
   "outputs": [
    {
     "name": "stdout",
     "output_type": "stream",
     "text": [
      "-0.81+0.34i\n",
      " 0.35+0.89i\n",
      " 1.24-1.38i\n",
      " 0.49-1.42i\n",
      " 0.20-0.06i\n",
      " 0.06-1.14i\n",
      "-0.35-0.88i\n",
      " 0.16-1.09i\n",
      "-1.02+0.86i\n",
      " 1.00+2.29i\n",
      " 0.16-1.06i\n",
      " 1.13+0.45i\n",
      " 0.51+0.34i\n",
      " 0.83-0.82i\n",
      "-1.19+0.18i\n",
      " 0.78+0.91i\n",
      " 0.05-2.08i\n",
      " 0.13+0.85i\n",
      " 0.00+1.75i\n",
      " 0.39+1.14i\n",
      " 0.09-0.34i\n",
      " 1.53-1.39i\n",
      "-0.54+0.92i\n",
      " 1.23+1.08i\n",
      "-0.51+1.05i\n",
      "-0.15+0.65i\n",
      " 2.13+0.85i\n",
      " 0.16+0.25i\n",
      " 1.13+0.34i\n",
      "-0.96+0.77i\n",
      "-0.79+2.02i\n",
      " 2.62+0.45i\n",
      " 0.58-0.05i\n",
      " 1.98+0.39i\n",
      " 1.52+0.38i\n",
      " 0.16-2.43i\n",
      "-1.17+0.34i\n",
      " 0.18+0.60i\n",
      "-1.04-0.87i\n",
      "-2.17-0.40i\n",
      "-0.78+0.45i\n",
      " 1.75+0.28i\n",
      " 0.02-0.20i\n",
      " 0.84+0.69i\n",
      " 1.36-1.59i\n",
      " 0.61-0.66i\n",
      " 0.77+0.70i\n",
      "-0.42-0.36i\n",
      "-0.39-0.44i\n",
      " 1.71-1.57i\n",
      "-0.58+1.35i\n",
      " 1.97+2.04i\n",
      " 0.80-0.05i\n",
      " 0.55-0.10i\n",
      " 1.86+0.16i\n",
      " 0.41+0.85i\n",
      "-1.22+0.08i\n",
      " 1.09+0.56i\n",
      "-1.08-1.75i\n",
      " 1.75+0.18i\n",
      " 1.03+1.46i\n",
      " 0.15-0.05i\n",
      "-0.23-0.59i\n",
      "-0.01+2.43i\n",
      " 0.37-0.90i\n",
      "-0.29-0.94i\n",
      " 0.15-1.92i\n",
      " 1.01-2.08i\n",
      "-0.88+1.23i\n",
      "-0.19-0.14i\n",
      "-1.49-1.44i\n",
      "-0.47+0.08i\n",
      " 0.24-1.48i\n",
      "-0.58+0.85i\n",
      "-0.22+0.83i\n",
      "-0.78+0.43i\n",
      " 0.94+0.51i\n",
      " 1.47+0.47i\n",
      " 1.06-1.71i\n",
      "-0.72-0.55i\n",
      " 1.11-2.08i\n",
      " 1.63-1.18i\n",
      " 0.09+0.31i\n",
      "-0.62+2.01i\n",
      "[[[-8.10000000e-01+0.34j  3.50000000e-01+0.89j  1.24000000e+00-1.38j\n",
      "    4.90000000e-01-1.42j  2.00000000e-01-0.06j  6.00000000e-02-1.14j\n",
      "   -3.50000000e-01-0.88j]\n",
      "  [ 1.60000000e-01-1.09j -1.02000000e+00+0.86j  1.00000000e+00+2.29j\n",
      "    1.60000000e-01-1.06j  1.13000000e+00+0.45j  5.10000000e-01+0.34j\n",
      "    8.30000000e-01-0.82j]\n",
      "  [-1.19000000e+00+0.18j  7.80000000e-01+0.91j  5.00000000e-02-2.08j\n",
      "    1.30000000e-01+0.85j  5.55111512e-17+1.75j  3.90000000e-01+1.14j\n",
      "    9.00000000e-02-0.34j]]\n",
      "\n",
      " [[ 1.53000000e+00-1.39j -5.40000000e-01+0.92j  1.23000000e+00+1.08j\n",
      "   -5.10000000e-01+1.05j -1.50000000e-01+0.65j  2.13000000e+00+0.85j\n",
      "    1.60000000e-01+0.25j]\n",
      "  [ 1.13000000e+00+0.34j -9.60000000e-01+0.77j -7.90000000e-01+2.02j\n",
      "    2.62000000e+00+0.45j  5.80000000e-01-0.05j  1.98000000e+00+0.39j\n",
      "    1.52000000e+00+0.38j]\n",
      "  [ 1.60000000e-01-2.43j -1.17000000e+00+0.34j  1.80000000e-01+0.6j\n",
      "   -1.04000000e+00-0.87j -2.17000000e+00-0.4j  -7.80000000e-01+0.45j\n",
      "    1.75000000e+00+0.28j]]\n",
      "\n",
      " [[ 2.00000000e-02-0.2j   8.40000000e-01+0.69j  1.36000000e+00-1.59j\n",
      "    6.10000000e-01-0.66j  7.70000000e-01+0.7j  -4.20000000e-01-0.36j\n",
      "   -3.90000000e-01-0.44j]\n",
      "  [ 1.71000000e+00-1.57j -5.80000000e-01+1.35j  1.97000000e+00+2.04j\n",
      "    8.00000000e-01-0.05j  5.50000000e-01-0.1j   1.86000000e+00+0.16j\n",
      "    4.10000000e-01+0.85j]\n",
      "  [-1.22000000e+00+0.08j  1.09000000e+00+0.56j -1.08000000e+00-1.75j\n",
      "    1.75000000e+00+0.18j  1.03000000e+00+1.46j  1.50000000e-01-0.05j\n",
      "   -2.30000000e-01-0.59j]]\n",
      "\n",
      " [[-1.00000000e-02+2.43j  3.70000000e-01-0.9j  -2.90000000e-01-0.94j\n",
      "    1.50000000e-01-1.92j  1.01000000e+00-2.08j -8.80000000e-01+1.23j\n",
      "   -1.90000000e-01-0.14j]\n",
      "  [-1.49000000e+00-1.44j -4.70000000e-01+0.08j  2.40000000e-01-1.48j\n",
      "   -5.80000000e-01+0.85j -2.20000000e-01+0.83j -7.80000000e-01+0.43j\n",
      "    9.40000000e-01+0.51j]\n",
      "  [ 1.47000000e+00+0.47j  1.06000000e+00-1.71j -7.20000000e-01-0.55j\n",
      "    1.11000000e+00-2.08j  1.63000000e+00-1.18j  9.00000000e-02+0.31j\n",
      "   -6.20000000e-01+2.01j]]]\n"
     ]
    }
   ],
   "source": [
    "Contraction = namedtuple(\"Contraction\", \"t1 t2 t3 ws\")\n",
    "c1 = Contraction(t1, t2, np.einsum(\"ij,kjl->ikl\", t1, t2), [(0, 1)])\n",
    "\n",
    "for el in c1.t3.flatten():\n",
    "  plus = \"+\" if el.imag >= 0 else \"\"\n",
    "  print(f\"{el.real: .2f}{plus}{el.imag:.2f}i\")\n",
    "\n",
    "print(c1.t3)"
   ]
  },
  {
   "cell_type": "code",
   "execution_count": 20,
   "metadata": {},
   "outputs": [
    {
     "data": {
      "text/plain": [
       "Contraction(t1=array([[-1. +0.4j,  0.7+0.5j],\n",
       "       [-0.6-0.3j,  0.1-0.6j]]), t2=array([[-0.4-0.5j, -0.3+0.6j],\n",
       "       [ 0.6+0.5j,  0.3+0.6j]]), t3=array([[[[ 0.6 +0.34j,  0.06-0.72j],\n",
       "         [-0.8 -0.26j, -0.54-0.48j]],\n",
       "\n",
       "        [[-0.03-0.55j, -0.51+0.27j],\n",
       "         [ 0.17+0.65j, -0.09+0.57j]]],\n",
       "\n",
       "\n",
       "       [[[ 0.09+0.42j,  0.36-0.27j],\n",
       "         [-0.21-0.48j,  0.  -0.45j]],\n",
       "\n",
       "        [[-0.34+0.19j,  0.33+0.24j],\n",
       "         [ 0.36-0.31j,  0.39-0.12j]]]]), ws=[])"
      ]
     },
     "execution_count": 20,
     "metadata": {},
     "output_type": "execute_result"
    }
   ],
   "source": [
    "def make_contraction(t1, t2, ws):\n",
    "  letters = list(string.ascii_lowercase)\n",
    "\n",
    "  t1_idxs = letters[0:len(t1.shape)]\n",
    "  t2_idxs = letters[len(t1.shape):(len(t1.shape) + len(t2.shape))]\n",
    "\n",
    "  for i1, i2 in ws:\n",
    "    t2_idxs[i2] = t1_idxs[i1]\n",
    "\n",
    "  con_string = ''.join(t1_idxs) + ',' + ''.join(t2_idxs)\n",
    "\n",
    "  return Contraction(t1, t2, np.einsum(con_string, t1, t2), ws)\n",
    "\n",
    "\n",
    "np.random.seed(9457)\n",
    "\n",
    "t1 = random_tensor((2, 2))\n",
    "t2 = random_tensor((2, 2))\n",
    "\n",
    "make_contraction(t1, t2, [(0, 1)])"
   ]
  },
  {
   "cell_type": "code",
   "execution_count": 118,
   "metadata": {},
   "outputs": [
    {
     "data": {
      "text/plain": [
       "((3, 2), (2, 3), [])"
      ]
     },
     "execution_count": 118,
     "metadata": {},
     "output_type": "execute_result"
    }
   ],
   "source": [
    "def random_dims_and_wires(max_idxs, allowed_dims):\n",
    "  n1 = np.random.randint(1, max_idxs)\n",
    "  n2 = np.random.randint(1, max_idxs)\n",
    "\n",
    "  dims1 = random.choices(allowed_dims, k = n1)\n",
    "  dims2 = random.choices(allowed_dims, k = n2)\n",
    "\n",
    "  nw = np.random.randint(0, min(n1, n2) + 1)\n",
    "\n",
    "  w1 = random.sample(list(np.arange(0, n1)), nw)\n",
    "  w2 = random.sample(list(np.arange(0, n2)), nw)\n",
    "\n",
    "  for i1, i2 in zip(w1, w2):\n",
    "    dims1[i1] = dims2[i2]\n",
    "\n",
    "  ws = zip(w1, w2)\n",
    "\n",
    "  return tuple(dims1), tuple(dims2), list(ws)\n",
    "\n",
    "random_dims_and_wires(5, [2, 3])"
   ]
  },
  {
   "cell_type": "code",
   "execution_count": 126,
   "metadata": {},
   "outputs": [
    {
     "data": {
      "text/plain": [
       "Contraction(t1=array([ 0.6+0.7j, -0.6-0.2j]), t2=array([[ 0.1+0.7j,  0.6+0.j , -0.6-0.3j],\n",
       "       [ 0.8-0.8j, -0.5-1.j ,  0.3+0.6j]]), t3=array([[[-0.43+0.49j,  0.36+0.42j, -0.15-0.6j ],\n",
       "        [ 1.04+0.08j,  0.4 -0.95j, -0.24+0.57j]],\n",
       "\n",
       "       [[ 0.08-0.44j, -0.36-0.12j,  0.3 +0.3j ],\n",
       "        [-0.64+0.32j,  0.1 +0.7j , -0.06-0.42j]]]), ws=[])"
      ]
     },
     "execution_count": 126,
     "metadata": {},
     "output_type": "execute_result"
    }
   ],
   "source": [
    "dims1, dims2, ws = random_dims_and_wires(5, [2, 3])\n",
    "con = make_contraction(random_tensor(dims1), random_tensor(dims2), ws)\n",
    "\n",
    "con"
   ]
  }
 ],
 "metadata": {
  "kernelspec": {
   "display_name": "Python 3",
   "language": "python",
   "name": "python3"
  },
  "language_info": {
   "codemirror_mode": {
    "name": "ipython",
    "version": 3
   },
   "file_extension": ".py",
   "mimetype": "text/x-python",
   "name": "python",
   "nbconvert_exporter": "python",
   "pygments_lexer": "ipython3",
   "version": "3.11.8"
  }
 },
 "nbformat": 4,
 "nbformat_minor": 2
}
