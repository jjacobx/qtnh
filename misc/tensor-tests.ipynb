{
 "cells": [
  {
   "cell_type": "code",
   "execution_count": 2,
   "metadata": {},
   "outputs": [],
   "source": [
    "import numpy as np"
   ]
  },
  {
   "cell_type": "code",
   "execution_count": 5,
   "metadata": {},
   "outputs": [
    {
     "data": {
      "text/plain": [
       "array([[[[1.+0.j, 0.+0.j],\n",
       "         [0.+0.j, 0.+0.j]],\n",
       "\n",
       "        [[0.+0.j, 1.+0.j],\n",
       "         [0.+0.j, 0.+0.j]]],\n",
       "\n",
       "\n",
       "       [[[0.+0.j, 0.+0.j],\n",
       "         [1.+0.j, 0.+0.j]],\n",
       "\n",
       "        [[0.+0.j, 0.+0.j],\n",
       "         [0.+0.j, 0.+1.j]]]])"
      ]
     },
     "execution_count": 5,
     "metadata": {},
     "output_type": "execute_result"
    }
   ],
   "source": [
    "psi = np.array([[1, 0], [0, 0]])\n",
    "h = np.array([[1, 1], [1, -1]]) / np.sqrt(2)\n",
    "cp = np.diag([1, 1, 1, 1j]).reshape((2, 2, 2, 2))"
   ]
  },
  {
   "cell_type": "code",
   "execution_count": 17,
   "metadata": {},
   "outputs": [
    {
     "name": "stdout",
     "output_type": "stream",
     "text": [
      "[[0.70710678 0.70710678]\n",
      " [0.         0.        ]]\n",
      "[[0.70710678+0.j 0.        +0.j]\n",
      " [0.70710678+0.j 0.        +0.j]]\n",
      "[[0.5+0.j 0.5+0.j]\n",
      " [0.5+0.j 0.5+0.j]]\n"
     ]
    }
   ],
   "source": [
    "# np.einsum(\"ij,ip,pjqr,rs->qs\", psi, h, cp, h)\n",
    "psi1 = np.einsum(\"ij,ip->jp\", psi, h)\n",
    "psi2 = np.einsum(\"pj,jpqr->qr\", psi1, cp)\n",
    "psi3 = np.einsum(\"qr,rs->qs\", psi2, h)\n",
    "\n",
    "print(psi1)\n",
    "print(psi2)\n",
    "print(psi3)"
   ]
  },
  {
   "cell_type": "code",
   "execution_count": 34,
   "metadata": {},
   "outputs": [
    {
     "data": {
      "text/plain": [
       "array([[ 7, 15],\n",
       "       [10, 22]])"
      ]
     },
     "execution_count": 34,
     "metadata": {},
     "output_type": "execute_result"
    }
   ],
   "source": [
    "t1 = np.array([[1, 2], [3, 4]])\n",
    "t2 = np.array([[1, 2], [3, 4]])\n",
    "\n",
    "np.einsum(\"ij,ki->jk\", t1, t2)"
   ]
  },
  {
   "cell_type": "code",
   "execution_count": 26,
   "metadata": {},
   "outputs": [],
   "source": [
    "def random_tensor(dims):\n",
    "  real = (np.random.randint(200, size = dims) - 100) / 100 \n",
    "  imag = (np.random.randint(200, size = dims) - 100) / 100\n",
    "\n",
    "  return real + imag * 1j\n",
    "\n",
    "t1 = random_tensor((4, 5))\n",
    "t2 = random_tensor((3, 5, 7))"
   ]
  },
  {
   "cell_type": "code",
   "execution_count": 33,
   "metadata": {},
   "outputs": [
    {
     "data": {
      "text/plain": [
       "(4, 3, 7)"
      ]
     },
     "execution_count": 33,
     "metadata": {},
     "output_type": "execute_result"
    }
   ],
   "source": [
    "np.einsum(\"ij,kjl->ikl\", t1, t2).shape"
   ]
  }
 ],
 "metadata": {
  "kernelspec": {
   "display_name": "Python 3",
   "language": "python",
   "name": "python3"
  },
  "language_info": {
   "codemirror_mode": {
    "name": "ipython",
    "version": 3
   },
   "file_extension": ".py",
   "mimetype": "text/x-python",
   "name": "python",
   "nbconvert_exporter": "python",
   "pygments_lexer": "ipython3",
   "version": "3.11.8"
  }
 },
 "nbformat": 4,
 "nbformat_minor": 2
}
